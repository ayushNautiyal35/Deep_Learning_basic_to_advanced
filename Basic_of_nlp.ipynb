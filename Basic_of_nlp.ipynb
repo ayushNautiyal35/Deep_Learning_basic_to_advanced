{
  "nbformat": 4,
  "nbformat_minor": 0,
  "metadata": {
    "colab": {
      "provenance": [],
      "authorship_tag": "ABX9TyMsfMZnHMXpuJHipLR5M8sw",
      "include_colab_link": true
    },
    "kernelspec": {
      "name": "python3",
      "display_name": "Python 3"
    },
    "language_info": {
      "name": "python"
    }
  },
  "cells": [
    {
      "cell_type": "markdown",
      "metadata": {
        "id": "view-in-github",
        "colab_type": "text"
      },
      "source": [
        "<a href=\"https://colab.research.google.com/github/ayushNautiyal35/Deep_Learning_basic_to_advanced/blob/main/Basic_of_nlp.ipynb\" target=\"_parent\"><img src=\"https://colab.research.google.com/assets/colab-badge.svg\" alt=\"Open In Colab\"/></a>"
      ]
    },
    {
      "cell_type": "markdown",
      "source": [
        "#tokenization\n"
      ],
      "metadata": {
        "id": "279P_bKCTPBN"
      }
    },
    {
      "cell_type": "code",
      "execution_count": 138,
      "metadata": {
        "id": "hNSqfn9uQnU9"
      },
      "outputs": [],
      "source": [
        "import nltk\n"
      ]
    },
    {
      "cell_type": "code",
      "source": [
        "nltk.download('punkt')\n",
        "nltk.download('stopwords')\n",
        "nltk.download('wordnet')"
      ],
      "metadata": {
        "colab": {
          "base_uri": "https://localhost:8080/"
        },
        "id": "ckhSICYbUdgK",
        "outputId": "8001e0bd-82b4-4a2c-df40-65cfb9bd1436"
      },
      "execution_count": 139,
      "outputs": [
        {
          "output_type": "stream",
          "name": "stderr",
          "text": [
            "[nltk_data] Downloading package punkt to /root/nltk_data...\n",
            "[nltk_data]   Package punkt is already up-to-date!\n",
            "[nltk_data] Downloading package stopwords to /root/nltk_data...\n",
            "[nltk_data]   Package stopwords is already up-to-date!\n",
            "[nltk_data] Downloading package wordnet to /root/nltk_data...\n",
            "[nltk_data]   Package wordnet is already up-to-date!\n"
          ]
        },
        {
          "output_type": "execute_result",
          "data": {
            "text/plain": [
              "True"
            ]
          },
          "metadata": {},
          "execution_count": 139
        }
      ]
    },
    {
      "cell_type": "code",
      "source": [
        "paragraph=\"Sisters and Brothers of America,It fills my heart with joy unspeakable to rise in response to the warm and cordial welcome which you have given us. I thank you in the name of the most ancient order of monks in the world, I thank you in the name of the mother of religions, and I thank you in the name of millions and millions of Hindu people of all classes and sects.My thanks, also, to some of the speakers on this platform who, referring to the delegates from the Orient, have told you that these men from far-off nations may well claim the honor of bearing to different lands the idea of toleration. I am proud to belong to a religion which has taught the world both tolerance and universal acceptance. We believe not only in universal toleration, but we accept all religions as true. I am proud to belong to a nation which has sheltered the persecuted and the refugees of all religions and all nations of the earth. I am proud to tell you that we have gathered in our bosom the purest remnant of the Israelites, who came to Southern India and took refuge with us in the very year in which their holy temple was shat­tered to pieces by Roman tyranny. I am proud to belong to the religion which has sheltered and is still fostering the remnant of the grand Zoroastrian nation. I will quote to you, brethren, a few lines from a hymn which I remember to have repeated from my earliest boyhood, which is every day repeated by millions of human beings: “As the different streams having their sources in different paths which men take through different tendencies, various though they appear, crooked or straight, all lead to Thee.”The present convention, which is one of the most august assemblies ever held, is in itself a vindication, a declaration to the world of the wonderful doctrine preached in the Gita: “Whosoever comes to Me, through whatsoever form, I reach him; all men are struggling through paths which in the end lead to me.” Sectarianism, bigotry, and its horrible descen­dant, fanaticism, have long possessed this beautiful earth. They have filled the earth with vio­lence, drenched it often and often with human blood, destroyed civilization and sent whole nations to despair. Had it not been for these horrible demons, human society would be far more advanced than it is now. But their time is come; and I fervently hope that the bell that tolled this morning in honor of this convention may be the death-knell of all fanaticism, of all persecutions with the sword or with the pen, and of all uncharitable feelings between persons wending their way to the same goal.\""
      ],
      "metadata": {
        "id": "N-nfuZ96TXPi"
      },
      "execution_count": 140,
      "outputs": []
    },
    {
      "cell_type": "code",
      "source": [
        "#tokenize\n",
        "sentences=nltk.sent_tokenize(paragraph)\n",
        "sentences"
      ],
      "metadata": {
        "colab": {
          "base_uri": "https://localhost:8080/"
        },
        "id": "9Gc3F2wCTat-",
        "outputId": "06034d77-6bb6-4019-ca92-e00f78db4fd3"
      },
      "execution_count": 141,
      "outputs": [
        {
          "output_type": "execute_result",
          "data": {
            "text/plain": [
              "['Sisters and Brothers of America,It fills my heart with joy unspeakable to rise in response to the warm and cordial welcome which you have given us.',\n",
              " 'I thank you in the name of the most ancient order of monks in the world, I thank you in the name of the mother of religions, and I thank you in the name of millions and millions of Hindu people of all classes and sects.My thanks, also, to some of the speakers on this platform who, referring to the delegates from the Orient, have told you that these men from far-off nations may well claim the honor of bearing to different lands the idea of toleration.',\n",
              " 'I am proud to belong to a religion which has taught the world both tolerance and universal acceptance.',\n",
              " 'We believe not only in universal toleration, but we accept all religions as true.',\n",
              " 'I am proud to belong to a nation which has sheltered the persecuted and the refugees of all religions and all nations of the earth.',\n",
              " 'I am proud to tell you that we have gathered in our bosom the purest remnant of the Israelites, who came to Southern India and took refuge with us in the very year in which their holy temple was shat\\xadtered to pieces by Roman tyranny.',\n",
              " 'I am proud to belong to the religion which has sheltered and is still fostering the remnant of the grand Zoroastrian nation.',\n",
              " 'I will quote to you, brethren, a few lines from a hymn which I remember to have repeated from my earliest boyhood, which is every day repeated by millions of human beings: “As the different streams having their sources in different paths which men take through different tendencies, various though they appear, crooked or straight, all lead to Thee.”The present convention, which is one of the most august assemblies ever held, is in itself a vindication, a declaration to the world of the wonderful doctrine preached in the Gita: “Whosoever comes to Me, through whatsoever form, I reach him; all men are struggling through paths which in the end lead to me.” Sectarianism, bigotry, and its horrible descen\\xaddant, fanaticism, have long possessed this beautiful earth.',\n",
              " 'They have filled the earth with vio\\xadlence, drenched it often and often with human blood, destroyed civilization and sent whole nations to despair.',\n",
              " 'Had it not been for these horrible demons, human society would be far more advanced than it is now.',\n",
              " 'But their time is come; and I fervently hope that the bell that tolled this morning in honor of this convention may be the death-knell of all fanaticism, of all persecutions with the sword or with the pen, and of all uncharitable feelings between persons wending their way to the same goal.']"
            ]
          },
          "metadata": {},
          "execution_count": 141
        }
      ]
    },
    {
      "cell_type": "code",
      "source": [
        "len(sentences)"
      ],
      "metadata": {
        "colab": {
          "base_uri": "https://localhost:8080/"
        },
        "id": "QJsGDs1IVJ09",
        "outputId": "2e662fb9-47ec-422e-d613-f4bfbbc98a77"
      },
      "execution_count": 142,
      "outputs": [
        {
          "output_type": "execute_result",
          "data": {
            "text/plain": [
              "11"
            ]
          },
          "metadata": {},
          "execution_count": 142
        }
      ]
    },
    {
      "cell_type": "code",
      "source": [
        "words=nltk.word_tokenize(paragraph)\n",
        "words"
      ],
      "metadata": {
        "colab": {
          "base_uri": "https://localhost:8080/"
        },
        "id": "MehXV7CNUly9",
        "outputId": "9601cee2-bfaf-4766-f830-1eef3f7ad797"
      },
      "execution_count": 143,
      "outputs": [
        {
          "output_type": "execute_result",
          "data": {
            "text/plain": [
              "['Sisters',\n",
              " 'and',\n",
              " 'Brothers',\n",
              " 'of',\n",
              " 'America',\n",
              " ',',\n",
              " 'It',\n",
              " 'fills',\n",
              " 'my',\n",
              " 'heart',\n",
              " 'with',\n",
              " 'joy',\n",
              " 'unspeakable',\n",
              " 'to',\n",
              " 'rise',\n",
              " 'in',\n",
              " 'response',\n",
              " 'to',\n",
              " 'the',\n",
              " 'warm',\n",
              " 'and',\n",
              " 'cordial',\n",
              " 'welcome',\n",
              " 'which',\n",
              " 'you',\n",
              " 'have',\n",
              " 'given',\n",
              " 'us',\n",
              " '.',\n",
              " 'I',\n",
              " 'thank',\n",
              " 'you',\n",
              " 'in',\n",
              " 'the',\n",
              " 'name',\n",
              " 'of',\n",
              " 'the',\n",
              " 'most',\n",
              " 'ancient',\n",
              " 'order',\n",
              " 'of',\n",
              " 'monks',\n",
              " 'in',\n",
              " 'the',\n",
              " 'world',\n",
              " ',',\n",
              " 'I',\n",
              " 'thank',\n",
              " 'you',\n",
              " 'in',\n",
              " 'the',\n",
              " 'name',\n",
              " 'of',\n",
              " 'the',\n",
              " 'mother',\n",
              " 'of',\n",
              " 'religions',\n",
              " ',',\n",
              " 'and',\n",
              " 'I',\n",
              " 'thank',\n",
              " 'you',\n",
              " 'in',\n",
              " 'the',\n",
              " 'name',\n",
              " 'of',\n",
              " 'millions',\n",
              " 'and',\n",
              " 'millions',\n",
              " 'of',\n",
              " 'Hindu',\n",
              " 'people',\n",
              " 'of',\n",
              " 'all',\n",
              " 'classes',\n",
              " 'and',\n",
              " 'sects.My',\n",
              " 'thanks',\n",
              " ',',\n",
              " 'also',\n",
              " ',',\n",
              " 'to',\n",
              " 'some',\n",
              " 'of',\n",
              " 'the',\n",
              " 'speakers',\n",
              " 'on',\n",
              " 'this',\n",
              " 'platform',\n",
              " 'who',\n",
              " ',',\n",
              " 'referring',\n",
              " 'to',\n",
              " 'the',\n",
              " 'delegates',\n",
              " 'from',\n",
              " 'the',\n",
              " 'Orient',\n",
              " ',',\n",
              " 'have',\n",
              " 'told',\n",
              " 'you',\n",
              " 'that',\n",
              " 'these',\n",
              " 'men',\n",
              " 'from',\n",
              " 'far-off',\n",
              " 'nations',\n",
              " 'may',\n",
              " 'well',\n",
              " 'claim',\n",
              " 'the',\n",
              " 'honor',\n",
              " 'of',\n",
              " 'bearing',\n",
              " 'to',\n",
              " 'different',\n",
              " 'lands',\n",
              " 'the',\n",
              " 'idea',\n",
              " 'of',\n",
              " 'toleration',\n",
              " '.',\n",
              " 'I',\n",
              " 'am',\n",
              " 'proud',\n",
              " 'to',\n",
              " 'belong',\n",
              " 'to',\n",
              " 'a',\n",
              " 'religion',\n",
              " 'which',\n",
              " 'has',\n",
              " 'taught',\n",
              " 'the',\n",
              " 'world',\n",
              " 'both',\n",
              " 'tolerance',\n",
              " 'and',\n",
              " 'universal',\n",
              " 'acceptance',\n",
              " '.',\n",
              " 'We',\n",
              " 'believe',\n",
              " 'not',\n",
              " 'only',\n",
              " 'in',\n",
              " 'universal',\n",
              " 'toleration',\n",
              " ',',\n",
              " 'but',\n",
              " 'we',\n",
              " 'accept',\n",
              " 'all',\n",
              " 'religions',\n",
              " 'as',\n",
              " 'true',\n",
              " '.',\n",
              " 'I',\n",
              " 'am',\n",
              " 'proud',\n",
              " 'to',\n",
              " 'belong',\n",
              " 'to',\n",
              " 'a',\n",
              " 'nation',\n",
              " 'which',\n",
              " 'has',\n",
              " 'sheltered',\n",
              " 'the',\n",
              " 'persecuted',\n",
              " 'and',\n",
              " 'the',\n",
              " 'refugees',\n",
              " 'of',\n",
              " 'all',\n",
              " 'religions',\n",
              " 'and',\n",
              " 'all',\n",
              " 'nations',\n",
              " 'of',\n",
              " 'the',\n",
              " 'earth',\n",
              " '.',\n",
              " 'I',\n",
              " 'am',\n",
              " 'proud',\n",
              " 'to',\n",
              " 'tell',\n",
              " 'you',\n",
              " 'that',\n",
              " 'we',\n",
              " 'have',\n",
              " 'gathered',\n",
              " 'in',\n",
              " 'our',\n",
              " 'bosom',\n",
              " 'the',\n",
              " 'purest',\n",
              " 'remnant',\n",
              " 'of',\n",
              " 'the',\n",
              " 'Israelites',\n",
              " ',',\n",
              " 'who',\n",
              " 'came',\n",
              " 'to',\n",
              " 'Southern',\n",
              " 'India',\n",
              " 'and',\n",
              " 'took',\n",
              " 'refuge',\n",
              " 'with',\n",
              " 'us',\n",
              " 'in',\n",
              " 'the',\n",
              " 'very',\n",
              " 'year',\n",
              " 'in',\n",
              " 'which',\n",
              " 'their',\n",
              " 'holy',\n",
              " 'temple',\n",
              " 'was',\n",
              " 'shat\\xadtered',\n",
              " 'to',\n",
              " 'pieces',\n",
              " 'by',\n",
              " 'Roman',\n",
              " 'tyranny',\n",
              " '.',\n",
              " 'I',\n",
              " 'am',\n",
              " 'proud',\n",
              " 'to',\n",
              " 'belong',\n",
              " 'to',\n",
              " 'the',\n",
              " 'religion',\n",
              " 'which',\n",
              " 'has',\n",
              " 'sheltered',\n",
              " 'and',\n",
              " 'is',\n",
              " 'still',\n",
              " 'fostering',\n",
              " 'the',\n",
              " 'remnant',\n",
              " 'of',\n",
              " 'the',\n",
              " 'grand',\n",
              " 'Zoroastrian',\n",
              " 'nation',\n",
              " '.',\n",
              " 'I',\n",
              " 'will',\n",
              " 'quote',\n",
              " 'to',\n",
              " 'you',\n",
              " ',',\n",
              " 'brethren',\n",
              " ',',\n",
              " 'a',\n",
              " 'few',\n",
              " 'lines',\n",
              " 'from',\n",
              " 'a',\n",
              " 'hymn',\n",
              " 'which',\n",
              " 'I',\n",
              " 'remember',\n",
              " 'to',\n",
              " 'have',\n",
              " 'repeated',\n",
              " 'from',\n",
              " 'my',\n",
              " 'earliest',\n",
              " 'boyhood',\n",
              " ',',\n",
              " 'which',\n",
              " 'is',\n",
              " 'every',\n",
              " 'day',\n",
              " 'repeated',\n",
              " 'by',\n",
              " 'millions',\n",
              " 'of',\n",
              " 'human',\n",
              " 'beings',\n",
              " ':',\n",
              " '“',\n",
              " 'As',\n",
              " 'the',\n",
              " 'different',\n",
              " 'streams',\n",
              " 'having',\n",
              " 'their',\n",
              " 'sources',\n",
              " 'in',\n",
              " 'different',\n",
              " 'paths',\n",
              " 'which',\n",
              " 'men',\n",
              " 'take',\n",
              " 'through',\n",
              " 'different',\n",
              " 'tendencies',\n",
              " ',',\n",
              " 'various',\n",
              " 'though',\n",
              " 'they',\n",
              " 'appear',\n",
              " ',',\n",
              " 'crooked',\n",
              " 'or',\n",
              " 'straight',\n",
              " ',',\n",
              " 'all',\n",
              " 'lead',\n",
              " 'to',\n",
              " 'Thee.',\n",
              " '”',\n",
              " 'The',\n",
              " 'present',\n",
              " 'convention',\n",
              " ',',\n",
              " 'which',\n",
              " 'is',\n",
              " 'one',\n",
              " 'of',\n",
              " 'the',\n",
              " 'most',\n",
              " 'august',\n",
              " 'assemblies',\n",
              " 'ever',\n",
              " 'held',\n",
              " ',',\n",
              " 'is',\n",
              " 'in',\n",
              " 'itself',\n",
              " 'a',\n",
              " 'vindication',\n",
              " ',',\n",
              " 'a',\n",
              " 'declaration',\n",
              " 'to',\n",
              " 'the',\n",
              " 'world',\n",
              " 'of',\n",
              " 'the',\n",
              " 'wonderful',\n",
              " 'doctrine',\n",
              " 'preached',\n",
              " 'in',\n",
              " 'the',\n",
              " 'Gita',\n",
              " ':',\n",
              " '“',\n",
              " 'Whosoever',\n",
              " 'comes',\n",
              " 'to',\n",
              " 'Me',\n",
              " ',',\n",
              " 'through',\n",
              " 'whatsoever',\n",
              " 'form',\n",
              " ',',\n",
              " 'I',\n",
              " 'reach',\n",
              " 'him',\n",
              " ';',\n",
              " 'all',\n",
              " 'men',\n",
              " 'are',\n",
              " 'struggling',\n",
              " 'through',\n",
              " 'paths',\n",
              " 'which',\n",
              " 'in',\n",
              " 'the',\n",
              " 'end',\n",
              " 'lead',\n",
              " 'to',\n",
              " 'me.',\n",
              " '”',\n",
              " 'Sectarianism',\n",
              " ',',\n",
              " 'bigotry',\n",
              " ',',\n",
              " 'and',\n",
              " 'its',\n",
              " 'horrible',\n",
              " 'descen\\xaddant',\n",
              " ',',\n",
              " 'fanaticism',\n",
              " ',',\n",
              " 'have',\n",
              " 'long',\n",
              " 'possessed',\n",
              " 'this',\n",
              " 'beautiful',\n",
              " 'earth',\n",
              " '.',\n",
              " 'They',\n",
              " 'have',\n",
              " 'filled',\n",
              " 'the',\n",
              " 'earth',\n",
              " 'with',\n",
              " 'vio\\xadlence',\n",
              " ',',\n",
              " 'drenched',\n",
              " 'it',\n",
              " 'often',\n",
              " 'and',\n",
              " 'often',\n",
              " 'with',\n",
              " 'human',\n",
              " 'blood',\n",
              " ',',\n",
              " 'destroyed',\n",
              " 'civilization',\n",
              " 'and',\n",
              " 'sent',\n",
              " 'whole',\n",
              " 'nations',\n",
              " 'to',\n",
              " 'despair',\n",
              " '.',\n",
              " 'Had',\n",
              " 'it',\n",
              " 'not',\n",
              " 'been',\n",
              " 'for',\n",
              " 'these',\n",
              " 'horrible',\n",
              " 'demons',\n",
              " ',',\n",
              " 'human',\n",
              " 'society',\n",
              " 'would',\n",
              " 'be',\n",
              " 'far',\n",
              " 'more',\n",
              " 'advanced',\n",
              " 'than',\n",
              " 'it',\n",
              " 'is',\n",
              " 'now',\n",
              " '.',\n",
              " 'But',\n",
              " 'their',\n",
              " 'time',\n",
              " 'is',\n",
              " 'come',\n",
              " ';',\n",
              " 'and',\n",
              " 'I',\n",
              " 'fervently',\n",
              " 'hope',\n",
              " 'that',\n",
              " 'the',\n",
              " 'bell',\n",
              " 'that',\n",
              " 'tolled',\n",
              " 'this',\n",
              " 'morning',\n",
              " 'in',\n",
              " 'honor',\n",
              " 'of',\n",
              " 'this',\n",
              " 'convention',\n",
              " 'may',\n",
              " 'be',\n",
              " 'the',\n",
              " 'death-knell',\n",
              " 'of',\n",
              " 'all',\n",
              " 'fanaticism',\n",
              " ',',\n",
              " 'of',\n",
              " 'all',\n",
              " 'persecutions',\n",
              " 'with',\n",
              " 'the',\n",
              " 'sword',\n",
              " 'or',\n",
              " 'with',\n",
              " 'the',\n",
              " 'pen',\n",
              " ',',\n",
              " 'and',\n",
              " 'of',\n",
              " 'all',\n",
              " 'uncharitable',\n",
              " 'feelings',\n",
              " 'between',\n",
              " 'persons',\n",
              " 'wending',\n",
              " 'their',\n",
              " 'way',\n",
              " 'to',\n",
              " 'the',\n",
              " 'same',\n",
              " 'goal',\n",
              " '.']"
            ]
          },
          "metadata": {},
          "execution_count": 143
        }
      ]
    },
    {
      "cell_type": "code",
      "source": [
        "len(words)"
      ],
      "metadata": {
        "colab": {
          "base_uri": "https://localhost:8080/"
        },
        "id": "Se72QkPDU2nk",
        "outputId": "e1213b3e-c77b-4093-98db-773435a1977e"
      },
      "execution_count": 144,
      "outputs": [
        {
          "output_type": "execute_result",
          "data": {
            "text/plain": [
              "506"
            ]
          },
          "metadata": {},
          "execution_count": 144
        }
      ]
    },
    {
      "cell_type": "markdown",
      "source": [
        "#Stemming"
      ],
      "metadata": {
        "id": "f24ArujnVOPm"
      }
    },
    {
      "cell_type": "code",
      "source": [
        "from nltk.stem import PorterStemmer\n",
        "from nltk.corpus import stopwords"
      ],
      "metadata": {
        "id": "4ey4DFt5VNO0"
      },
      "execution_count": 145,
      "outputs": []
    },
    {
      "cell_type": "code",
      "source": [
        "stemmer=PorterStemmer()\n"
      ],
      "metadata": {
        "id": "g2GweJ68Vhbv"
      },
      "execution_count": 146,
      "outputs": []
    },
    {
      "cell_type": "code",
      "source": [
        "stem_corpus=[]"
      ],
      "metadata": {
        "id": "YywUDMLRW9u5"
      },
      "execution_count": 147,
      "outputs": []
    },
    {
      "cell_type": "code",
      "source": [
        "#stop words\n",
        "for i in range(len(sentences)):\n",
        "  words=nltk.word_tokenize(sentences[i])\n",
        "  words=[stemmer.stem(word) for word in words if word not in set(stopwords.words('english'))]\n",
        "  s=' '.join(words)\n",
        "  stem_corpus.append(s)"
      ],
      "metadata": {
        "id": "59JjHlHwVp5a"
      },
      "execution_count": 148,
      "outputs": []
    },
    {
      "cell_type": "code",
      "source": [
        "stem_corpus"
      ],
      "metadata": {
        "colab": {
          "base_uri": "https://localhost:8080/"
        },
        "id": "R3BisjsDWxgs",
        "outputId": "d2aff31c-74b4-42dd-fac6-1caab8c63beb"
      },
      "execution_count": 149,
      "outputs": [
        {
          "output_type": "execute_result",
          "data": {
            "text/plain": [
              "['sister brother america , it fill heart joy unspeak rise respons warm cordial welcom given us .',\n",
              " 'i thank name ancient order monk world , i thank name mother religion , i thank name million million hindu peopl class sects.mi thank , also , speaker platform , refer deleg orient , told men far-off nation may well claim honor bear differ land idea toler .',\n",
              " 'i proud belong religion taught world toler univers accept .',\n",
              " 'we believ univers toler , accept religion true .',\n",
              " 'i proud belong nation shelter persecut refuge religion nation earth .',\n",
              " 'i proud tell gather bosom purest remnant israelit , came southern india took refug us year holi templ shat\\xadter piec roman tyranni .',\n",
              " 'i proud belong religion shelter still foster remnant grand zoroastrian nation .',\n",
              " 'i quot , brethren , line hymn i rememb repeat earliest boyhood , everi day repeat million human be : “ as differ stream sourc differ path men take differ tendenc , variou though appear , crook straight , lead thee. ” the present convent , one august assembl ever held , vindic , declar world wonder doctrin preach gita : “ whosoev come me , whatsoev form , i reach ; men struggl path end lead me. ” sectarian , bigotri , horribl descen\\xadd , fanatic , long possess beauti earth .',\n",
              " 'they fill earth vio\\xadlenc , drench often often human blood , destroy civil sent whole nation despair .',\n",
              " 'had horribl demon , human societi would far advanc .',\n",
              " 'but time come ; i fervent hope bell toll morn honor convent may death-knel fanatic , persecut sword pen , uncharit feel person wend way goal .']"
            ]
          },
          "metadata": {},
          "execution_count": 149
        }
      ]
    },
    {
      "cell_type": "markdown",
      "source": [
        "#Lemmatization"
      ],
      "metadata": {
        "id": "ev1PZdljXQo0"
      }
    },
    {
      "cell_type": "code",
      "source": [
        "from nltk.stem import WordNetLemmatizer"
      ],
      "metadata": {
        "id": "49CHwn3aXVMg"
      },
      "execution_count": 150,
      "outputs": []
    },
    {
      "cell_type": "code",
      "source": [
        "lemma_corpus=[]"
      ],
      "metadata": {
        "id": "i3RUe6q5YE4T"
      },
      "execution_count": 151,
      "outputs": []
    },
    {
      "cell_type": "code",
      "source": [
        "lemmatizer=WordNetLemmatizer()"
      ],
      "metadata": {
        "id": "473AhaqUXbyn"
      },
      "execution_count": 152,
      "outputs": []
    },
    {
      "cell_type": "code",
      "source": [
        "for i in range(len(sentences)):\n",
        "  words=nltk.word_tokenize(sentences[i])\n",
        "  words=[lemmatizer.lemmatize(word) for word in words if word not in set(stopwords.words('english'))]\n",
        "  l=' '.join(words)\n",
        "  lemma_corpus.append(l)"
      ],
      "metadata": {
        "id": "bHPOzfadXgUP"
      },
      "execution_count": 153,
      "outputs": []
    },
    {
      "cell_type": "code",
      "source": [
        "lemma_corpus"
      ],
      "metadata": {
        "colab": {
          "base_uri": "https://localhost:8080/"
        },
        "id": "yLjqhxk2YVeu",
        "outputId": "4c5ae872-31d8-4b94-f9f8-fccb1e503636"
      },
      "execution_count": 154,
      "outputs": [
        {
          "output_type": "execute_result",
          "data": {
            "text/plain": [
              "['Sisters Brothers America , It fill heart joy unspeakable rise response warm cordial welcome given u .',\n",
              " 'I thank name ancient order monk world , I thank name mother religion , I thank name million million Hindu people class sects.My thanks , also , speaker platform , referring delegate Orient , told men far-off nation may well claim honor bearing different land idea toleration .',\n",
              " 'I proud belong religion taught world tolerance universal acceptance .',\n",
              " 'We believe universal toleration , accept religion true .',\n",
              " 'I proud belong nation sheltered persecuted refugee religion nation earth .',\n",
              " 'I proud tell gathered bosom purest remnant Israelites , came Southern India took refuge u year holy temple shat\\xadtered piece Roman tyranny .',\n",
              " 'I proud belong religion sheltered still fostering remnant grand Zoroastrian nation .',\n",
              " 'I quote , brother , line hymn I remember repeated earliest boyhood , every day repeated million human being : “ As different stream source different path men take different tendency , various though appear , crooked straight , lead Thee. ” The present convention , one august assembly ever held , vindication , declaration world wonderful doctrine preached Gita : “ Whosoever come Me , whatsoever form , I reach ; men struggling path end lead me. ” Sectarianism , bigotry , horrible descen\\xaddant , fanaticism , long possessed beautiful earth .',\n",
              " 'They filled earth vio\\xadlence , drenched often often human blood , destroyed civilization sent whole nation despair .',\n",
              " 'Had horrible demon , human society would far advanced .',\n",
              " 'But time come ; I fervently hope bell tolled morning honor convention may death-knell fanaticism , persecution sword pen , uncharitable feeling person wending way goal .']"
            ]
          },
          "metadata": {},
          "execution_count": 154
        }
      ]
    },
    {
      "cell_type": "markdown",
      "source": [
        "#Bag of words"
      ],
      "metadata": {
        "id": "446fw4XoY_DT"
      }
    },
    {
      "cell_type": "code",
      "source": [
        "import re"
      ],
      "metadata": {
        "id": "tFp4K3siZCFJ"
      },
      "execution_count": 155,
      "outputs": []
    },
    {
      "cell_type": "code",
      "source": [
        "corpus=[]"
      ],
      "metadata": {
        "id": "RJcgn2kiZFN-"
      },
      "execution_count": 156,
      "outputs": []
    },
    {
      "cell_type": "code",
      "source": [
        "#for sentences\n",
        "for i in range(len(sentences)):\n",
        "  review=re.sub('[^a-zA-Z]',' ',sentences[i])\n",
        "  review=review.lower()\n",
        "  review=review.split()\n",
        "  review=[lemmatizer.lemmatize(word) for word in words if not word in set(stopwords.words('english'))]\n",
        "  review=' '.join(review)\n",
        "  corpus.append(review)"
      ],
      "metadata": {
        "id": "Ztw7F4C8ZUs9"
      },
      "execution_count": 157,
      "outputs": []
    },
    {
      "cell_type": "code",
      "source": [
        "#bow\n",
        "from sklearn.feature_extraction.text import CountVectorizer\n"
      ],
      "metadata": {
        "id": "1Tj98MjuaGgG"
      },
      "execution_count": 158,
      "outputs": []
    },
    {
      "cell_type": "code",
      "source": [
        "cv=CountVectorizer()\n",
        "x=cv.fit_transform(corpus).toarray()"
      ],
      "metadata": {
        "id": "HEH5Gj66aWRB"
      },
      "execution_count": 159,
      "outputs": []
    },
    {
      "cell_type": "code",
      "source": [
        "x"
      ],
      "metadata": {
        "colab": {
          "base_uri": "https://localhost:8080/"
        },
        "id": "afdzztEbafZI",
        "outputId": "048b5b29-7e53-4536-9502-cecd03d3fb13"
      },
      "execution_count": 160,
      "outputs": [
        {
          "output_type": "execute_result",
          "data": {
            "text/plain": [
              "array([[1, 1, 1, 1, 1, 1, 1, 1, 1, 1, 1, 1, 1, 1, 1, 1, 1, 1, 1, 1, 1, 1,\n",
              "        1],\n",
              "       [1, 1, 1, 1, 1, 1, 1, 1, 1, 1, 1, 1, 1, 1, 1, 1, 1, 1, 1, 1, 1, 1,\n",
              "        1],\n",
              "       [1, 1, 1, 1, 1, 1, 1, 1, 1, 1, 1, 1, 1, 1, 1, 1, 1, 1, 1, 1, 1, 1,\n",
              "        1],\n",
              "       [1, 1, 1, 1, 1, 1, 1, 1, 1, 1, 1, 1, 1, 1, 1, 1, 1, 1, 1, 1, 1, 1,\n",
              "        1],\n",
              "       [1, 1, 1, 1, 1, 1, 1, 1, 1, 1, 1, 1, 1, 1, 1, 1, 1, 1, 1, 1, 1, 1,\n",
              "        1],\n",
              "       [1, 1, 1, 1, 1, 1, 1, 1, 1, 1, 1, 1, 1, 1, 1, 1, 1, 1, 1, 1, 1, 1,\n",
              "        1],\n",
              "       [1, 1, 1, 1, 1, 1, 1, 1, 1, 1, 1, 1, 1, 1, 1, 1, 1, 1, 1, 1, 1, 1,\n",
              "        1],\n",
              "       [1, 1, 1, 1, 1, 1, 1, 1, 1, 1, 1, 1, 1, 1, 1, 1, 1, 1, 1, 1, 1, 1,\n",
              "        1],\n",
              "       [1, 1, 1, 1, 1, 1, 1, 1, 1, 1, 1, 1, 1, 1, 1, 1, 1, 1, 1, 1, 1, 1,\n",
              "        1],\n",
              "       [1, 1, 1, 1, 1, 1, 1, 1, 1, 1, 1, 1, 1, 1, 1, 1, 1, 1, 1, 1, 1, 1,\n",
              "        1],\n",
              "       [1, 1, 1, 1, 1, 1, 1, 1, 1, 1, 1, 1, 1, 1, 1, 1, 1, 1, 1, 1, 1, 1,\n",
              "        1]])"
            ]
          },
          "metadata": {},
          "execution_count": 160
        }
      ]
    },
    {
      "cell_type": "markdown",
      "source": [
        "#tf-idf"
      ],
      "metadata": {
        "id": "5h_d-KlBanFD"
      }
    },
    {
      "cell_type": "code",
      "source": [
        "from sklearn.feature_extraction.text import TfidfVectorizer"
      ],
      "metadata": {
        "id": "b6pHvjseapH3"
      },
      "execution_count": 161,
      "outputs": []
    },
    {
      "cell_type": "code",
      "source": [
        "for i in range(len(sentences)):\n",
        "  review=re.sub('[^a-zA-Z]',' ',sentences[i])\n",
        "  review=review.lower()\n",
        "  review=review.split()\n",
        "  review=[lemmatizer.lemmatize(word) for word in words if not word in set(stopwords.words('english'))]\n",
        "  review=' '.join(review)\n",
        "  corpus.append(review)"
      ],
      "metadata": {
        "id": "Hh3zKa35dWGs"
      },
      "execution_count": 162,
      "outputs": []
    },
    {
      "cell_type": "code",
      "source": [
        "tf=TfidfVectorizer()\n",
        "y=tf.fit_transform(corpus).toarray()"
      ],
      "metadata": {
        "id": "Uipv6euga0jM"
      },
      "execution_count": 163,
      "outputs": []
    },
    {
      "cell_type": "code",
      "source": [
        "y"
      ],
      "metadata": {
        "colab": {
          "base_uri": "https://localhost:8080/"
        },
        "id": "9c3TMKg0bFIG",
        "outputId": "ac07445a-5187-4e02-afb1-1295b2375ac8"
      },
      "execution_count": 164,
      "outputs": [
        {
          "output_type": "execute_result",
          "data": {
            "text/plain": [
              "array([[0.20851441, 0.20851441, 0.20851441, 0.20851441, 0.20851441,\n",
              "        0.20851441, 0.20851441, 0.20851441, 0.20851441, 0.20851441,\n",
              "        0.20851441, 0.20851441, 0.20851441, 0.20851441, 0.20851441,\n",
              "        0.20851441, 0.20851441, 0.20851441, 0.20851441, 0.20851441,\n",
              "        0.20851441, 0.20851441, 0.20851441],\n",
              "       [0.20851441, 0.20851441, 0.20851441, 0.20851441, 0.20851441,\n",
              "        0.20851441, 0.20851441, 0.20851441, 0.20851441, 0.20851441,\n",
              "        0.20851441, 0.20851441, 0.20851441, 0.20851441, 0.20851441,\n",
              "        0.20851441, 0.20851441, 0.20851441, 0.20851441, 0.20851441,\n",
              "        0.20851441, 0.20851441, 0.20851441],\n",
              "       [0.20851441, 0.20851441, 0.20851441, 0.20851441, 0.20851441,\n",
              "        0.20851441, 0.20851441, 0.20851441, 0.20851441, 0.20851441,\n",
              "        0.20851441, 0.20851441, 0.20851441, 0.20851441, 0.20851441,\n",
              "        0.20851441, 0.20851441, 0.20851441, 0.20851441, 0.20851441,\n",
              "        0.20851441, 0.20851441, 0.20851441],\n",
              "       [0.20851441, 0.20851441, 0.20851441, 0.20851441, 0.20851441,\n",
              "        0.20851441, 0.20851441, 0.20851441, 0.20851441, 0.20851441,\n",
              "        0.20851441, 0.20851441, 0.20851441, 0.20851441, 0.20851441,\n",
              "        0.20851441, 0.20851441, 0.20851441, 0.20851441, 0.20851441,\n",
              "        0.20851441, 0.20851441, 0.20851441],\n",
              "       [0.20851441, 0.20851441, 0.20851441, 0.20851441, 0.20851441,\n",
              "        0.20851441, 0.20851441, 0.20851441, 0.20851441, 0.20851441,\n",
              "        0.20851441, 0.20851441, 0.20851441, 0.20851441, 0.20851441,\n",
              "        0.20851441, 0.20851441, 0.20851441, 0.20851441, 0.20851441,\n",
              "        0.20851441, 0.20851441, 0.20851441],\n",
              "       [0.20851441, 0.20851441, 0.20851441, 0.20851441, 0.20851441,\n",
              "        0.20851441, 0.20851441, 0.20851441, 0.20851441, 0.20851441,\n",
              "        0.20851441, 0.20851441, 0.20851441, 0.20851441, 0.20851441,\n",
              "        0.20851441, 0.20851441, 0.20851441, 0.20851441, 0.20851441,\n",
              "        0.20851441, 0.20851441, 0.20851441],\n",
              "       [0.20851441, 0.20851441, 0.20851441, 0.20851441, 0.20851441,\n",
              "        0.20851441, 0.20851441, 0.20851441, 0.20851441, 0.20851441,\n",
              "        0.20851441, 0.20851441, 0.20851441, 0.20851441, 0.20851441,\n",
              "        0.20851441, 0.20851441, 0.20851441, 0.20851441, 0.20851441,\n",
              "        0.20851441, 0.20851441, 0.20851441],\n",
              "       [0.20851441, 0.20851441, 0.20851441, 0.20851441, 0.20851441,\n",
              "        0.20851441, 0.20851441, 0.20851441, 0.20851441, 0.20851441,\n",
              "        0.20851441, 0.20851441, 0.20851441, 0.20851441, 0.20851441,\n",
              "        0.20851441, 0.20851441, 0.20851441, 0.20851441, 0.20851441,\n",
              "        0.20851441, 0.20851441, 0.20851441],\n",
              "       [0.20851441, 0.20851441, 0.20851441, 0.20851441, 0.20851441,\n",
              "        0.20851441, 0.20851441, 0.20851441, 0.20851441, 0.20851441,\n",
              "        0.20851441, 0.20851441, 0.20851441, 0.20851441, 0.20851441,\n",
              "        0.20851441, 0.20851441, 0.20851441, 0.20851441, 0.20851441,\n",
              "        0.20851441, 0.20851441, 0.20851441],\n",
              "       [0.20851441, 0.20851441, 0.20851441, 0.20851441, 0.20851441,\n",
              "        0.20851441, 0.20851441, 0.20851441, 0.20851441, 0.20851441,\n",
              "        0.20851441, 0.20851441, 0.20851441, 0.20851441, 0.20851441,\n",
              "        0.20851441, 0.20851441, 0.20851441, 0.20851441, 0.20851441,\n",
              "        0.20851441, 0.20851441, 0.20851441],\n",
              "       [0.20851441, 0.20851441, 0.20851441, 0.20851441, 0.20851441,\n",
              "        0.20851441, 0.20851441, 0.20851441, 0.20851441, 0.20851441,\n",
              "        0.20851441, 0.20851441, 0.20851441, 0.20851441, 0.20851441,\n",
              "        0.20851441, 0.20851441, 0.20851441, 0.20851441, 0.20851441,\n",
              "        0.20851441, 0.20851441, 0.20851441],\n",
              "       [0.20851441, 0.20851441, 0.20851441, 0.20851441, 0.20851441,\n",
              "        0.20851441, 0.20851441, 0.20851441, 0.20851441, 0.20851441,\n",
              "        0.20851441, 0.20851441, 0.20851441, 0.20851441, 0.20851441,\n",
              "        0.20851441, 0.20851441, 0.20851441, 0.20851441, 0.20851441,\n",
              "        0.20851441, 0.20851441, 0.20851441],\n",
              "       [0.20851441, 0.20851441, 0.20851441, 0.20851441, 0.20851441,\n",
              "        0.20851441, 0.20851441, 0.20851441, 0.20851441, 0.20851441,\n",
              "        0.20851441, 0.20851441, 0.20851441, 0.20851441, 0.20851441,\n",
              "        0.20851441, 0.20851441, 0.20851441, 0.20851441, 0.20851441,\n",
              "        0.20851441, 0.20851441, 0.20851441],\n",
              "       [0.20851441, 0.20851441, 0.20851441, 0.20851441, 0.20851441,\n",
              "        0.20851441, 0.20851441, 0.20851441, 0.20851441, 0.20851441,\n",
              "        0.20851441, 0.20851441, 0.20851441, 0.20851441, 0.20851441,\n",
              "        0.20851441, 0.20851441, 0.20851441, 0.20851441, 0.20851441,\n",
              "        0.20851441, 0.20851441, 0.20851441],\n",
              "       [0.20851441, 0.20851441, 0.20851441, 0.20851441, 0.20851441,\n",
              "        0.20851441, 0.20851441, 0.20851441, 0.20851441, 0.20851441,\n",
              "        0.20851441, 0.20851441, 0.20851441, 0.20851441, 0.20851441,\n",
              "        0.20851441, 0.20851441, 0.20851441, 0.20851441, 0.20851441,\n",
              "        0.20851441, 0.20851441, 0.20851441],\n",
              "       [0.20851441, 0.20851441, 0.20851441, 0.20851441, 0.20851441,\n",
              "        0.20851441, 0.20851441, 0.20851441, 0.20851441, 0.20851441,\n",
              "        0.20851441, 0.20851441, 0.20851441, 0.20851441, 0.20851441,\n",
              "        0.20851441, 0.20851441, 0.20851441, 0.20851441, 0.20851441,\n",
              "        0.20851441, 0.20851441, 0.20851441],\n",
              "       [0.20851441, 0.20851441, 0.20851441, 0.20851441, 0.20851441,\n",
              "        0.20851441, 0.20851441, 0.20851441, 0.20851441, 0.20851441,\n",
              "        0.20851441, 0.20851441, 0.20851441, 0.20851441, 0.20851441,\n",
              "        0.20851441, 0.20851441, 0.20851441, 0.20851441, 0.20851441,\n",
              "        0.20851441, 0.20851441, 0.20851441],\n",
              "       [0.20851441, 0.20851441, 0.20851441, 0.20851441, 0.20851441,\n",
              "        0.20851441, 0.20851441, 0.20851441, 0.20851441, 0.20851441,\n",
              "        0.20851441, 0.20851441, 0.20851441, 0.20851441, 0.20851441,\n",
              "        0.20851441, 0.20851441, 0.20851441, 0.20851441, 0.20851441,\n",
              "        0.20851441, 0.20851441, 0.20851441],\n",
              "       [0.20851441, 0.20851441, 0.20851441, 0.20851441, 0.20851441,\n",
              "        0.20851441, 0.20851441, 0.20851441, 0.20851441, 0.20851441,\n",
              "        0.20851441, 0.20851441, 0.20851441, 0.20851441, 0.20851441,\n",
              "        0.20851441, 0.20851441, 0.20851441, 0.20851441, 0.20851441,\n",
              "        0.20851441, 0.20851441, 0.20851441],\n",
              "       [0.20851441, 0.20851441, 0.20851441, 0.20851441, 0.20851441,\n",
              "        0.20851441, 0.20851441, 0.20851441, 0.20851441, 0.20851441,\n",
              "        0.20851441, 0.20851441, 0.20851441, 0.20851441, 0.20851441,\n",
              "        0.20851441, 0.20851441, 0.20851441, 0.20851441, 0.20851441,\n",
              "        0.20851441, 0.20851441, 0.20851441],\n",
              "       [0.20851441, 0.20851441, 0.20851441, 0.20851441, 0.20851441,\n",
              "        0.20851441, 0.20851441, 0.20851441, 0.20851441, 0.20851441,\n",
              "        0.20851441, 0.20851441, 0.20851441, 0.20851441, 0.20851441,\n",
              "        0.20851441, 0.20851441, 0.20851441, 0.20851441, 0.20851441,\n",
              "        0.20851441, 0.20851441, 0.20851441],\n",
              "       [0.20851441, 0.20851441, 0.20851441, 0.20851441, 0.20851441,\n",
              "        0.20851441, 0.20851441, 0.20851441, 0.20851441, 0.20851441,\n",
              "        0.20851441, 0.20851441, 0.20851441, 0.20851441, 0.20851441,\n",
              "        0.20851441, 0.20851441, 0.20851441, 0.20851441, 0.20851441,\n",
              "        0.20851441, 0.20851441, 0.20851441]])"
            ]
          },
          "metadata": {},
          "execution_count": 164
        }
      ]
    },
    {
      "cell_type": "markdown",
      "source": [
        "#Word2Vec"
      ],
      "metadata": {
        "id": "x6oMynSAbYCe"
      }
    },
    {
      "cell_type": "code",
      "source": [
        "from gensim.models import Word2Vec"
      ],
      "metadata": {
        "id": "iWbbnDjObfio"
      },
      "execution_count": 165,
      "outputs": []
    },
    {
      "cell_type": "code",
      "source": [
        "\n",
        "# Preprocessing the data\n",
        "text = re.sub(r'\\[[0-9]*\\]',' ',paragraph)\n",
        "text = re.sub(r'\\s+',' ',text)\n",
        "text = text.lower()\n",
        "text = re.sub(r'\\d',' ',text)\n",
        "text = re.sub(r'\\s+',' ',text)\n",
        "\n",
        "# Preparing the dataset\n",
        "sentences = nltk.sent_tokenize(text)\n",
        "\n",
        "sentences = [nltk.word_tokenize(sentence) for sentence in sentences]\n",
        "\n",
        "for i in range(len(sentences)):\n",
        "    sentences[i] = [word for word in sentences[i] if word not in stopwords.words('english')]\n",
        "\n",
        "\n",
        "# Training the Word2Vec model\n",
        "model = Word2Vec(sentences, min_count=1)\n"
      ],
      "metadata": {
        "id": "yij5Mzwxdb1z"
      },
      "execution_count": 172,
      "outputs": []
    },
    {
      "cell_type": "code",
      "source": [
        "model"
      ],
      "metadata": {
        "colab": {
          "base_uri": "https://localhost:8080/"
        },
        "id": "M9AWfdm-dsuh",
        "outputId": "216f1b2c-4a3d-4faf-a69f-fb130cc7f752"
      },
      "execution_count": 176,
      "outputs": [
        {
          "output_type": "execute_result",
          "data": {
            "text/plain": [
              "<gensim.models.word2vec.Word2Vec at 0x7ab6c96902b0>"
            ]
          },
          "metadata": {},
          "execution_count": 176
        }
      ]
    },
    {
      "cell_type": "code",
      "source": [
        "words = model.wv.key_to_index\n",
        "words"
      ],
      "metadata": {
        "colab": {
          "base_uri": "https://localhost:8080/"
        },
        "id": "VTx4Wx0dd5nx",
        "outputId": "c76ebeba-31c0-4556-f0de-a9fbf9004521"
      },
      "execution_count": 173,
      "outputs": [
        {
          "output_type": "execute_result",
          "data": {
            "text/plain": [
              "{',': 0,\n",
              " '.': 1,\n",
              " 'proud': 2,\n",
              " 'different': 3,\n",
              " 'men': 4,\n",
              " 'nations': 5,\n",
              " 'millions': 6,\n",
              " 'religions': 7,\n",
              " 'world': 8,\n",
              " 'human': 9,\n",
              " 'name': 10,\n",
              " 'thank': 11,\n",
              " 'earth': 12,\n",
              " 'belong': 13,\n",
              " ';': 14,\n",
              " 'paths': 15,\n",
              " 'lead': 16,\n",
              " 'may': 17,\n",
              " '”': 18,\n",
              " 'honor': 19,\n",
              " 'horrible': 20,\n",
              " 'convention': 21,\n",
              " 'nation': 22,\n",
              " 'universal': 23,\n",
              " 'fanaticism': 24,\n",
              " 'toleration': 25,\n",
              " 'sheltered': 26,\n",
              " 'often': 27,\n",
              " 'religion': 28,\n",
              " 'repeated': 29,\n",
              " '“': 30,\n",
              " ':': 31,\n",
              " 'us': 32,\n",
              " 'remnant': 33,\n",
              " 'tell': 34,\n",
              " 'shat\\xadtered': 35,\n",
              " 'temple': 36,\n",
              " 'holy': 37,\n",
              " 'tolerance': 38,\n",
              " 'year': 39,\n",
              " 'refuge': 40,\n",
              " 'took': 41,\n",
              " 'india': 42,\n",
              " 'acceptance': 43,\n",
              " 'southern': 44,\n",
              " 'israelites': 45,\n",
              " 'came': 46,\n",
              " 'taught': 47,\n",
              " 'believe': 48,\n",
              " 'accept': 49,\n",
              " 'true': 50,\n",
              " 'purest': 51,\n",
              " 'bosom': 52,\n",
              " 'persecuted': 53,\n",
              " 'refugees': 54,\n",
              " 'gathered': 55,\n",
              " 'goal': 56,\n",
              " 'well': 57,\n",
              " 'idea': 58,\n",
              " 'response': 59,\n",
              " 'order': 60,\n",
              " 'ancient': 61,\n",
              " 'given': 62,\n",
              " 'welcome': 63,\n",
              " 'cordial': 64,\n",
              " 'warm': 65,\n",
              " 'rise': 66,\n",
              " 'mother': 67,\n",
              " 'unspeakable': 68,\n",
              " 'joy': 69,\n",
              " 'heart': 70,\n",
              " 'fills': 71,\n",
              " 'america': 72,\n",
              " 'brothers': 73,\n",
              " 'monks': 74,\n",
              " 'hindu': 75,\n",
              " 'lands': 76,\n",
              " 'delegates': 77,\n",
              " 'bearing': 78,\n",
              " 'claim': 79,\n",
              " 'roman': 80,\n",
              " 'far-off': 81,\n",
              " 'told': 82,\n",
              " 'orient': 83,\n",
              " 'referring': 84,\n",
              " 'people': 85,\n",
              " 'platform': 86,\n",
              " 'speakers': 87,\n",
              " 'also': 88,\n",
              " 'thanks': 89,\n",
              " 'sects.my': 90,\n",
              " 'classes': 91,\n",
              " 'pieces': 92,\n",
              " 'brethren': 93,\n",
              " 'tyranny': 94,\n",
              " 'reach': 95,\n",
              " 'despair': 96,\n",
              " 'whole': 97,\n",
              " 'sent': 98,\n",
              " 'civilization': 99,\n",
              " 'destroyed': 100,\n",
              " 'blood': 101,\n",
              " 'drenched': 102,\n",
              " 'vio\\xadlence': 103,\n",
              " 'filled': 104,\n",
              " 'beautiful': 105,\n",
              " 'possessed': 106,\n",
              " 'long': 107,\n",
              " 'descen\\xaddant': 108,\n",
              " 'bigotry': 109,\n",
              " 'sectarianism': 110,\n",
              " 'me.': 111,\n",
              " 'end': 112,\n",
              " 'demons': 113,\n",
              " 'society': 114,\n",
              " 'would': 115,\n",
              " 'death-knell': 116,\n",
              " 'wending': 117,\n",
              " 'persons': 118,\n",
              " 'feelings': 119,\n",
              " 'uncharitable': 120,\n",
              " 'pen': 121,\n",
              " 'sword': 122,\n",
              " 'persecutions': 123,\n",
              " 'morning': 124,\n",
              " 'far': 125,\n",
              " 'tolled': 126,\n",
              " 'bell': 127,\n",
              " 'hope': 128,\n",
              " 'fervently': 129,\n",
              " 'come': 130,\n",
              " 'time': 131,\n",
              " 'advanced': 132,\n",
              " 'struggling': 133,\n",
              " 'form': 134,\n",
              " 'still': 135,\n",
              " 'whatsoever': 136,\n",
              " 'tendencies': 137,\n",
              " 'take': 138,\n",
              " 'sources': 139,\n",
              " 'streams': 140,\n",
              " 'beings': 141,\n",
              " 'day': 142,\n",
              " 'every': 143,\n",
              " 'boyhood': 144,\n",
              " 'earliest': 145,\n",
              " 'remember': 146,\n",
              " 'hymn': 147,\n",
              " 'lines': 148,\n",
              " 'way': 149,\n",
              " 'quote': 150,\n",
              " 'zoroastrian': 151,\n",
              " 'grand': 152,\n",
              " 'fostering': 153,\n",
              " 'various': 154,\n",
              " 'though': 155,\n",
              " 'appear': 156,\n",
              " 'vindication': 157,\n",
              " 'comes': 158,\n",
              " 'whosoever': 159,\n",
              " 'gita': 160,\n",
              " 'preached': 161,\n",
              " 'doctrine': 162,\n",
              " 'wonderful': 163,\n",
              " 'declaration': 164,\n",
              " 'held': 165,\n",
              " 'crooked': 166,\n",
              " 'ever': 167,\n",
              " 'assemblies': 168,\n",
              " 'august': 169,\n",
              " 'one': 170,\n",
              " 'present': 171,\n",
              " 'thee.': 172,\n",
              " 'straight': 173,\n",
              " 'sisters': 174}"
            ]
          },
          "metadata": {},
          "execution_count": 173
        }
      ]
    },
    {
      "cell_type": "code",
      "source": [
        "similar=model.wv['brothers']\n",
        "similar"
      ],
      "metadata": {
        "colab": {
          "base_uri": "https://localhost:8080/"
        },
        "id": "Qs7JnXaPhjMt",
        "outputId": "1138fed7-707d-4c83-ea35-cfd2a64055f6"
      },
      "execution_count": 178,
      "outputs": [
        {
          "output_type": "execute_result",
          "data": {
            "text/plain": [
              "array([-6.3818606e-04,  1.4335120e-03, -1.1984971e-03, -4.0562027e-03,\n",
              "        8.6473691e-04, -9.7025381e-03,  1.4124376e-03, -4.1313875e-03,\n",
              "       -5.8236900e-03,  3.7828491e-03,  1.4528503e-03,  3.6540753e-03,\n",
              "        8.8380428e-04, -9.5174871e-03,  9.9999364e-03, -3.5228769e-03,\n",
              "       -2.1835600e-03,  7.1107186e-03,  7.0992050e-05,  3.0028191e-03,\n",
              "        2.2576267e-03,  2.4026020e-03,  6.7529278e-03,  9.4605740e-03,\n",
              "       -5.7179859e-04, -3.4201220e-03,  4.5662895e-03, -8.3451141e-03,\n",
              "        8.4367599e-03,  2.4070591e-03,  6.0156672e-03,  2.8053550e-03,\n",
              "       -1.3258697e-03,  9.5134438e-04, -4.8039113e-03,  9.1102384e-03,\n",
              "        5.0453646e-03,  3.5907873e-03, -5.0048199e-03, -8.6740386e-03,\n",
              "        7.9266075e-03,  2.9232714e-03, -4.2507667e-03, -8.6779650e-03,\n",
              "       -3.9234567e-03,  1.4101350e-03, -9.1830706e-03,  4.5886733e-05,\n",
              "        2.8025671e-03, -9.9307718e-03, -1.4226236e-04, -6.0599726e-03,\n",
              "       -3.5959971e-03, -1.6222302e-03, -9.9614561e-03, -3.6115020e-03,\n",
              "       -7.0146560e-03, -7.3222364e-03,  1.5857230e-03,  2.3549681e-03,\n",
              "        9.3010040e-03,  8.8725444e-03, -6.4142016e-03, -9.2362883e-03,\n",
              "        7.8808386e-03,  5.4362393e-03,  6.9457181e-03, -2.9211242e-03,\n",
              "       -5.2451850e-03, -4.5330171e-03, -8.3464757e-03,  5.8814031e-03,\n",
              "       -3.4449750e-03,  8.6332206e-03, -5.6741945e-03,  9.6540004e-03,\n",
              "       -4.5116483e-03,  8.6710202e-03, -5.4180571e-03, -7.5249947e-03,\n",
              "        7.6561300e-03, -9.7586801e-03, -8.8102380e-03,  4.9797557e-03,\n",
              "       -9.7530717e-03,  5.2817911e-03,  3.6637103e-03, -7.0036207e-03,\n",
              "        3.1748586e-03,  1.4601401e-03,  8.6602028e-03,  2.8882772e-03,\n",
              "       -5.1320917e-03, -2.3357980e-03,  6.8884999e-03, -6.6164746e-03,\n",
              "        9.3277767e-03, -3.2432191e-03, -4.6380218e-03, -4.3880474e-03],\n",
              "      dtype=float32)"
            ]
          },
          "metadata": {},
          "execution_count": 178
        }
      ]
    },
    {
      "cell_type": "code",
      "source": [
        "vector=model.wv.most_similar('sisters')\n",
        "vector"
      ],
      "metadata": {
        "colab": {
          "base_uri": "https://localhost:8080/"
        },
        "id": "LcrV9q4ocpN_",
        "outputId": "30e4925e-aeff-4156-8d5e-78d364e739ff"
      },
      "execution_count": 175,
      "outputs": [
        {
          "output_type": "execute_result",
          "data": {
            "text/plain": [
              "[('far', 0.2560371458530426),\n",
              " ('temple', 0.2120853066444397),\n",
              " ('ever', 0.1944715827703476),\n",
              " ('lands', 0.182297483086586),\n",
              " ('southern', 0.17889808118343353),\n",
              " (',', 0.17851458489894867),\n",
              " ('given', 0.1782148778438568),\n",
              " ('refugees', 0.172827810049057),\n",
              " ('civilization', 0.16556864976882935),\n",
              " ('pen', 0.15677206218242645)]"
            ]
          },
          "metadata": {},
          "execution_count": 175
        }
      ]
    }
  ]
}