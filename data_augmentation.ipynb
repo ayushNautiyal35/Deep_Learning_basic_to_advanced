{
  "nbformat": 4,
  "nbformat_minor": 0,
  "metadata": {
    "colab": {
      "provenance": [],
      "authorship_tag": "ABX9TyNeQiv/pbLc8bxoSO4uWVYp",
      "include_colab_link": true
    },
    "kernelspec": {
      "name": "python3",
      "display_name": "Python 3"
    },
    "language_info": {
      "name": "python"
    }
  },
  "cells": [
    {
      "cell_type": "markdown",
      "metadata": {
        "id": "view-in-github",
        "colab_type": "text"
      },
      "source": [
        "<a href=\"https://colab.research.google.com/github/ayushNautiyal35/Deep_Learning_basic_to_advanced/blob/main/data_augmentation.ipynb\" target=\"_parent\"><img src=\"https://colab.research.google.com/assets/colab-badge.svg\" alt=\"Open In Colab\"/></a>"
      ]
    },
    {
      "cell_type": "code",
      "execution_count": 1,
      "metadata": {
        "id": "Y4LJmMktro5S"
      },
      "outputs": [],
      "source": [
        "from keras.preprocessing.image import ImageDataGenerator,array_to_img,img_to_array,load_img"
      ]
    },
    {
      "cell_type": "code",
      "source": [
        "data_gen=ImageDataGenerator(\n",
        "    rotation_range=90,\n",
        "    width_shift_range=0.5,\n",
        "    height_shift_range=0.4,\n",
        "    shear_range=0.3,\n",
        "    zoom_range=0.3,\n",
        "    horizontal_flip=True,\n",
        "    fill_mode='nearest'\n",
        ")"
      ],
      "metadata": {
        "id": "xAbtYDLTsIAj"
      },
      "execution_count": 2,
      "outputs": []
    },
    {
      "cell_type": "code",
      "source": [
        "img=load_img('cat.jpg')"
      ],
      "metadata": {
        "id": "M7Qv71U0ssic"
      },
      "execution_count": 3,
      "outputs": []
    },
    {
      "cell_type": "code",
      "source": [
        "x=img_to_array(img)\n",
        "x=x.reshape((1,)+x.shape)\n",
        "x.shape"
      ],
      "metadata": {
        "colab": {
          "base_uri": "https://localhost:8080/"
        },
        "id": "tszoFXMUsxdC",
        "outputId": "df744e52-593e-4516-e69b-130a46c68e21"
      },
      "execution_count": 6,
      "outputs": [
        {
          "output_type": "execute_result",
          "data": {
            "text/plain": [
              "(1, 901, 1200, 3)"
            ]
          },
          "metadata": {},
          "execution_count": 6
        }
      ]
    },
    {
      "cell_type": "code",
      "source": [
        "i=0\n",
        "for batch in data_gen.flow(x,batch_size=1,save_to_dir='preview',save_format='jpeg'):\n",
        "  i+=1\n",
        "  if(i>=30):\n",
        "    break"
      ],
      "metadata": {
        "id": "DbnvsXgBtEBA"
      },
      "execution_count": 14,
      "outputs": []
    }
  ]
}